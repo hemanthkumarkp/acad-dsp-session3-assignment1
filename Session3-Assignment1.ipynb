{
 "cells": [
  {
   "cell_type": "markdown",
   "metadata": {},
   "source": [
    "1.1 Write a Python Program(with class concepts) to find the area of the triangle using the below\n",
    "formula.\n",
    "area = (s*(s-a)*(s-b)*(s-c)) ** 0.5\n",
    "Function to take the length of the sides of triangle from user should be defined in the parent\n",
    "class and function to calculate the area should be defined in subclass."
   ]
  },
  {
   "cell_type": "code",
   "execution_count": 14,
   "metadata": {},
   "outputs": [
    {
     "name": "stdout",
     "output_type": "stream",
     "text": [
      "The area of the triangle is 14.70\n"
     ]
    }
   ],
   "source": [
    "class Traingle:\n",
    "    def __init__(self,  a, b,c):\n",
    "        self.a = a\n",
    "        self.b = b\n",
    "        self.c = c\n",
    "\n",
    "class TraingleArea(Traingle):\n",
    "    def __init__(self, *args):\n",
    "        super(TraingleArea, self).__init__(*args)\n",
    "    \n",
    "    def area(self):\n",
    "        s = (self.a +self.b + self.c) / 2\n",
    "        return (s*(s-self.a)*(s-self.b)*(s-self.c)) ** 0.5\n",
    "    \n",
    "\n",
    "traingleArea = TraingleArea(5,6,7)\n",
    "print('The area of the triangle is %0.2f' %traingleArea.area())"
   ]
  },
  {
   "cell_type": "markdown",
   "metadata": {},
   "source": [
    "1.2 Write a function filter_long_words() that takes a list of words and an integer n and returns\n",
    "the list of words that are longer than n."
   ]
  },
  {
   "cell_type": "code",
   "execution_count": 2,
   "metadata": {},
   "outputs": [
    {
     "name": "stdout",
     "output_type": "stream",
     "text": [
      "['Hello', 'Acadgild', 'Longer', 'Testing']\n"
     ]
    }
   ],
   "source": [
    "def filter_long_words(words,length):\n",
    "    longerWords = []\n",
    "    for word in words:\n",
    "        if len(word)> length:\n",
    "            longerWords.append(word)\n",
    "    return longerWords\n",
    "\n",
    "wordsList = [\"Hi\",\"Hello\",\"How\",\"Acadgild\",\"Longer\",\"Testing\"]\n",
    "length = 3\n",
    "longerWords = filter_long_words(wordsList,length)\n",
    "print(longerWords)\n",
    "    2.1 Write a Python program using function concept that maps list of words into a list of integers\n",
    "representing the lengths of the corresponding words .\n",
    "Hint: If a list [ ab,cde,erty] is passed on to the python function output should come as [2,3,4]\n",
    "Here 2,3 and 4 are the lengths of the words in the list."
   ]
  },
  {
   "cell_type": "markdown",
   "metadata": {},
   "source": [
    "2.1 Write a Python program using function concept that maps list of words into a list of integers\n",
    "representing the lengths of the corresponding words .\n",
    "Hint: If a list [ ab,cde,erty] is passed on to the python function output should come as [2,3,4]\n",
    "Here 2,3 and 4 are the lengths of the words in the list."
   ]
  },
  {
   "cell_type": "code",
   "execution_count": 3,
   "metadata": {},
   "outputs": [
    {
     "name": "stdout",
     "output_type": "stream",
     "text": [
      "[2, 5, 3, 8, 6, 7]\n"
     ]
    }
   ],
   "source": [
    "def len_of_words(words):\n",
    "    wordsLen = []\n",
    "    for word in words:\n",
    "        wordsLen.append(len(word))\n",
    "    return wordsLen\n",
    "\n",
    "wordsList = [\"Hi\",\"Hello\",\"How\",\"Acadgild\",\"Longer\",\"Testing\"]\n",
    "\n",
    "wordsLen = len_of_words(wordsList)\n",
    "\n",
    "print(wordsLen)"
   ]
  },
  {
   "cell_type": "markdown",
   "metadata": {},
   "source": [
    "2.2 Write a Python function which takes a character (i.e. a string of length 1) and returns True if\n",
    "it is a vowel, False otherwise."
   ]
  },
  {
   "cell_type": "code",
   "execution_count": 7,
   "metadata": {},
   "outputs": [
    {
     "name": "stdout",
     "output_type": "stream",
     "text": [
      "True\n",
      "False\n",
      "False\n",
      "False\n",
      "True\n",
      "True\n",
      "False\n",
      "True\n",
      "True\n"
     ]
    }
   ],
   "source": [
    "def isVowel(charStr):\n",
    "    if charStr.lower() in [\"a\",\"e\",\"i\",\"o\",\"u\"]:\n",
    "        return True\n",
    "    else:\n",
    "        return False\n",
    "\n",
    "charStrArr = [\"A\",\"b\",\"C\",\"D\",\"e\",\"I\",\"K\",\"o\",\"U\"]\n",
    "\n",
    "for charStr in charStrArr:\n",
    "    print(isVowel(charStr))\n",
    "\n",
    "        "
   ]
  },
  {
   "cell_type": "code",
   "execution_count": null,
   "metadata": {},
   "outputs": [],
   "source": []
  },
  {
   "cell_type": "code",
   "execution_count": null,
   "metadata": {},
   "outputs": [],
   "source": []
  }
 ],
 "metadata": {
  "kernelspec": {
   "display_name": "Python 3",
   "language": "python",
   "name": "python3"
  },
  "language_info": {
   "codemirror_mode": {
    "name": "ipython",
    "version": 3
   },
   "file_extension": ".py",
   "mimetype": "text/x-python",
   "name": "python",
   "nbconvert_exporter": "python",
   "pygments_lexer": "ipython3",
   "version": "3.6.5"
  }
 },
 "nbformat": 4,
 "nbformat_minor": 2
}
